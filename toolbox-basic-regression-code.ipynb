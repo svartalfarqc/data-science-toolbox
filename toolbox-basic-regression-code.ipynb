{
 "cells": [
  {
   "cell_type": "markdown",
   "metadata": {},
   "source": [
    "# Linear Regression"
   ]
  },
  {
   "cell_type": "code",
   "execution_count": 1,
   "metadata": {},
   "outputs": [],
   "source": [
    "import math\n",
    "from statistics import mean"
   ]
  },
  {
   "cell_type": "code",
   "execution_count": 6,
   "metadata": {},
   "outputs": [],
   "source": [
    "def calc_pearsonr(x,y):\n",
    "    \"\"\"\n",
    "    Calculate pearson correlation coefficient (PCC) a.k.a. Pearson's r of a linear regression\n",
    "    @args: x and y, arrays\n",
    "    \"\"\"\n",
    "    \n",
    "    # mean of x and y\n",
    "    mean_x = mean(x)\n",
    "    mean_y = mean(y)\n",
    "\n",
    "    # correlation coefficient is covariance divided by standard deviations\n",
    "    # covariance = sum ((x[i]-mean_x)*(y[i]-mean_y)) \n",
    "    # stddev_x = sqrt(sum(x[i]-mean_x)^2)\n",
    "    # r = covariance / stddev_x*stddev_y)\n",
    "    \n",
    "    covar,dev_x,dev_y = 0,0,0\n",
    "    \n",
    "    for i in range(len(x)):\n",
    "        covar += (x[i]-mean_x)*(y[i]-mean_y)\n",
    "        dev_x += (x[i]-mean_x)**2\n",
    "        dev_y += (y[i]-mean_y)**2\n",
    "\n",
    "    r = covar / (math.sqrt(dev_x)*math.sqrt(dev_y))\n",
    "    return r"
   ]
  },
  {
   "cell_type": "code",
   "execution_count": 8,
   "metadata": {},
   "outputs": [
    {
     "name": "stdout",
     "output_type": "stream",
     "text": [
      "0.145\n"
     ]
    }
   ],
   "source": [
    "x = [15 , 12 , 8  , 8 ,  7 ,  7 ,  7 ,  6   , 5  , 3]\n",
    "y = [10  ,25 , 17  ,11 , 13 , 17 , 20 , 13 , 9  , 15]\n",
    "r = calc_pearsonr(x,y)\n",
    "print('{0:.3f}'.format(r))"
   ]
  },
  {
   "cell_type": "code",
   "execution_count": 9,
   "metadata": {},
   "outputs": [],
   "source": [
    "def calc_slope(x,y):\n",
    "    \"\"\"\n",
    "    Calculate the slope of a linear regression\n",
    "    @args: x and y, arrays\n",
    "    \"\"\"\n",
    "    \n",
    "    # mean of x and y\n",
    "    mean_x = mean(x)\n",
    "    mean_y = mean(y)\n",
    "\n",
    "    # correlation coefficient is covariance divided by standard deviations\n",
    "    # covariance = sum ((x[i]-mean_x)*(y[i]-mean_y)) \n",
    "    # stddev_x = sqrt(sum(x[i]-mean_x)^2)\n",
    "    # r = covariance / stddev_x*stddev_y)\n",
    "\n",
    "    covar,var_x,var_y = 0,0,0\n",
    "    for i in range(len(x)):\n",
    "        covar += (x[i]-mean_x)*(y[i]-mean_y)\n",
    "        var_x += (x[i]-mean_x)**2\n",
    "        var_y += (y[i]-mean_y)**2\n",
    "\n",
    "    r = float(covar) / (math.sqrt(var_x*var_y))\n",
    "    \n",
    "    # slope is r * (stddev_y/stddev_x)\n",
    "    \n",
    "    stddev_x = math.sqrt( (float(var_x)/(len(x))))\n",
    "    stddev_y = math.sqrt( (float(var_y)/(len(y))))\n",
    "    \n",
    "    s = r*stddev_y/stddev_x\n",
    "\n",
    "    return s"
   ]
  },
  {
   "cell_type": "code",
   "execution_count": 10,
   "metadata": {},
   "outputs": [
    {
     "name": "stdout",
     "output_type": "stream",
     "text": [
      "0.208\n"
     ]
    }
   ],
   "source": [
    "x = [15, 12, 8, 8, 7, 7, 7, 6, 5, 3]\n",
    "y = [10, 25, 17, 11, 13, 17, 20, 13, 9, 15]\n",
    "\n",
    "result = calc_slope(x,y)\n",
    "\n",
    "print(\"%.3f\" % result)"
   ]
  },
  {
   "cell_type": "code",
   "execution_count": 13,
   "metadata": {},
   "outputs": [],
   "source": [
    "def calc_intercept(x,y):\n",
    "    \"\"\"\n",
    "    Calculate the y-intercept of a linear regression\n",
    "    @args: x and y, arrays\n",
    "    \"\"\"\n",
    "    # mean of x and y\n",
    "    mean_x = mean(x)\n",
    "    mean_y = mean(y)\n",
    "\n",
    "    y_intercept = mean_y - calc_slope(x,y)*mean_x\n",
    "\n",
    "    return y_intercept"
   ]
  },
  {
   "cell_type": "code",
   "execution_count": 15,
   "metadata": {},
   "outputs": [
    {
     "name": "stdout",
     "output_type": "stream",
     "text": [
      "15.458\n"
     ]
    }
   ],
   "source": [
    "x = [15, 12, 8, 8, 7, 7, 7, 6, 5, 3]\n",
    "y = [10, 25, 17, 11, 13, 17, 20, 13, 9, 15]\n",
    "slope = calc_slope(x,y)\n",
    "y_intercept = calc_intercept(x,y)\n",
    "\n",
    "score = 10\n",
    "result = slope*score + y_intercept\n",
    "print(\"%.3f\" % result)"
   ]
  },
  {
   "cell_type": "markdown",
   "metadata": {},
   "source": [
    "# Polynomial Regression"
   ]
  },
  {
   "cell_type": "code",
   "execution_count": null,
   "metadata": {},
   "outputs": [],
   "source": [
    "from sklearn.linear_model import LinearRegression\n",
    "from sklearn.preprocessing import PolynomialFeatures"
   ]
  },
  {
   "cell_type": "code",
   "execution_count": null,
   "metadata": {},
   "outputs": [],
   "source": [
    "m = [[0.44,0.68,511.14]\n",
    "    ,[0.99,0.23,717.1]\n",
    "    ,[0.84,0.29,607.91]\n",
    "    ,[0.28,0.45,270.4]]"
   ]
  }
 ],
 "metadata": {
  "kernelspec": {
   "display_name": "Python 3",
   "language": "python",
   "name": "python3"
  },
  "language_info": {
   "codemirror_mode": {
    "name": "ipython",
    "version": 3
   },
   "file_extension": ".py",
   "mimetype": "text/x-python",
   "name": "python",
   "nbconvert_exporter": "python",
   "pygments_lexer": "ipython3",
   "version": "3.6.4"
  }
 },
 "nbformat": 4,
 "nbformat_minor": 2
}
