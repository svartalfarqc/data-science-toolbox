{
 "cells": [
  {
   "cell_type": "markdown",
   "metadata": {
    "colab_type": "text",
    "id": "KrBpvZj-_DOV",
    "slideshow": {
     "slide_type": "slide"
    }
   },
   "source": [
    "# Data Science Framework\n",
    "Author: Luc Mercier"
   ]
  },
  {
   "cell_type": "markdown",
   "metadata": {
    "colab_type": "text",
    "id": "ewtCP0Oz_DOX",
    "slideshow": {
     "slide_type": "skip"
    }
   },
   "source": [
    "# Configuration"
   ]
  },
  {
   "cell_type": "markdown",
   "metadata": {
    "colab_type": "text",
    "id": "LHquUMLnBZZb"
   },
   "source": [
    "## Install"
   ]
  },
  {
   "cell_type": "code",
   "execution_count": 0,
   "metadata": {
    "colab": {},
    "colab_type": "code",
    "id": "PfSK3wScBazV"
   },
   "outputs": [],
   "source": []
  },
  {
   "cell_type": "markdown",
   "metadata": {
    "colab_type": "text",
    "id": "90JfVj3g_DOX"
   },
   "source": [
    "## Import"
   ]
  },
  {
   "cell_type": "code",
   "execution_count": 0,
   "metadata": {
    "colab": {},
    "colab_type": "code",
    "id": "-qpaA0Wc_DOY",
    "slideshow": {
     "slide_type": "skip"
    }
   },
   "outputs": [],
   "source": [
    "# Import libraries\n",
    "# MAIN\n",
    "import numpy as np\n",
    "import pandas as pd\n",
    "import requests\n",
    "import re\n",
    "import math\n",
    "\n",
    "# SECONDARY\n",
    "# from bs4 import BeautifulSoup\n",
    "#import time\n",
    "#import nltk\n",
    "#import matplotlib as mpl\n",
    "#import datetime as dt\n",
    "#import statsmodels.discrete.discrete_model as sm\n",
    "#import graphviz\n",
    "\n",
    "#from pandas.io import gbq \n",
    "#from IPython.utils import io\n",
    "#from sklearn.feature_selection import RFE\n",
    "#from sklearn.linear_model import LogisticRegression\n",
    "\n",
    "#from nltk.corpus import stopwords\n",
    "#from scipy.stats import pearsonr\n",
    "#from IPython.display import display, HTML, Image\n",
    "\n",
    "# Configuration\n",
    "#pd.options.display.float_format = '{:,.1f}'.format\n",
    "#warnings.filterwarnings('ignore')\n",
    "%matplotlib inline\n",
    "\n",
    "# http://stackoverflow.com/questions/20625582/how-to-deal-with-settingwithcopywarning-in-pandas\n",
    "pd.options.mode.chained_assignment = None  # default='warn'"
   ]
  },
  {
   "cell_type": "markdown",
   "metadata": {
    "colab_type": "text",
    "id": "QGHf2dM7BPe9"
   },
   "source": [
    "## Configure"
   ]
  },
  {
   "cell_type": "code",
   "execution_count": 0,
   "metadata": {
    "colab": {},
    "colab_type": "code",
    "id": "GM-g-cGD_DOb"
   },
   "outputs": [],
   "source": [
    "# Seaborn settings\n",
    "sns.set_context(\"talk\", font_scale=0.8)\n",
    "sns.set_style(\"whitegrid\")\n",
    "#tm_palette = 'YlOrRd_r'\n",
    "#sns.color_palette(tm_palette)"
   ]
  },
  {
   "cell_type": "markdown",
   "metadata": {
    "colab_type": "text",
    "id": "EBGUjad1_DOd"
   },
   "source": [
    "## Hide Code for presentation"
   ]
  },
  {
   "cell_type": "code",
   "execution_count": 0,
   "metadata": {
    "colab": {},
    "colab_type": "code",
    "id": "dzUUECdZ_DOe",
    "outputId": "122936ed-e7e3-43aa-f146-96135959e8df"
   },
   "outputs": [
    {
     "data": {
      "text/html": [
       "<script>\n",
       "code_show=true; \n",
       "function code_toggle() {\n",
       " if (code_show){\n",
       " $('div.input').hide();\n",
       " } else {\n",
       " $('div.input').show();\n",
       " }\n",
       " code_show = !code_show\n",
       "} \n",
       "$( document ).ready(code_toggle);\n",
       "</script>\n",
       "Pour voir le code, cliquer <a href=\"javascript:code_toggle()\">ici</a>."
      ],
      "text/plain": [
       "<IPython.core.display.HTML object>"
      ]
     },
     "execution_count": 5,
     "metadata": {
      "tags": []
     },
     "output_type": "execute_result"
    }
   ],
   "source": [
    "from IPython.display import HTML\n",
    "\n",
    "HTML('''<script>\n",
    "code_show=true; \n",
    "function code_toggle() {\n",
    " if (code_show){\n",
    " $('div.input').hide();\n",
    " } else {\n",
    " $('div.input').show();\n",
    " }\n",
    " code_show = !code_show\n",
    "} \n",
    "$( document ).ready(code_toggle);\n",
    "</script>\n",
    "Pour voir le code, cliquer <a href=\"javascript:code_toggle()\">ici</a>.''')"
   ]
  },
  {
   "cell_type": "markdown",
   "metadata": {
    "colab_type": "text",
    "id": "kT11eX2gcE_r"
   },
   "source": []
  },
  {
   "cell_type": "code",
   "execution_count": 0,
   "metadata": {
    "colab": {},
    "colab_type": "code",
    "id": "1HOOdqD3GDxP",
    "slideshow": {
     "slide_type": "skip"
    }
   },
   "outputs": [],
   "source": [
    "def fill_missing_dates(df, dateMin = None, dateMax = None):\n",
    "    \"\"\"\n",
    "    Fill missing dates in a pandas DataFrame where the index is a Datetime value (of type pandas.tseries.index.DatetimeIndex)\n",
    "    df = the dataframe in question\n",
    "    dateMin (optional) = First date of the range to fill. If no value, min date of dataframe is taken.\n",
    "    dateMax (optional) = Last date of the range to fill. If no value, max date of dataframe is taken.\n",
    "    Returns the dataframe with missing dates filled with empty data. If index is not valid, the original DataFrame is returned intact.\n",
    "    \"\"\"\n",
    "    if type(df.index) == pd.core.indexes.datetimes.DatetimeIndex:\n",
    "        if dateMin == None:\n",
    "            dateMin = df.index.min()\n",
    "        if dateMax == None:\n",
    "            dateMax = df.index.max()\n",
    "        all_days = pd.date_range(dateMin, dateMax, freq='D')\n",
    "        return df.loc[all_days].fillna(0)\n",
    "    else:\n",
    "        return df"
   ]
  },
  {
   "cell_type": "code",
   "execution_count": 0,
   "metadata": {
    "colab": {},
    "colab_type": "code",
    "id": "IvIYruhdGDxR"
   },
   "outputs": [],
   "source": [
    "def nullify_text(text):\n",
    "    \"\"\"\n",
    "    Cleanup text from source data to harmonize values\n",
    "    Input    Output\n",
    "    NaN      N/A\n",
    "    Aucun    N/A\n",
    "    0        N/A\n",
    "    \"\"\"\n",
    "    \n",
    "    if pd.isnull(text) or text==\"Aucun\" or text == \"0\":\n",
    "        return\n",
    "    else:\n",
    "        return text"
   ]
  },
  {
   "cell_type": "code",
   "execution_count": 0,
   "metadata": {
    "colab": {},
    "colab_type": "code",
    "id": "rOh7v72gGDxT",
    "slideshow": {
     "slide_type": "skip"
    }
   },
   "outputs": [],
   "source": [
    "def make_bool(thing):\n",
    "    \"\"\"\n",
    "    Takes a value and returns 1 if > 0, 0 otherwise.\n",
    "    TODO: Make it also not empty string = 1, 0 otherwise\n",
    "    \"\"\"\n",
    "    \n",
    "    if thing > 0:\n",
    "        return True\n",
    "    else:\n",
    "        return False"
   ]
  },
  {
   "cell_type": "code",
   "execution_count": 0,
   "metadata": {
    "colab": {},
    "colab_type": "code",
    "id": "wGoQI06mGDxV",
    "slideshow": {
     "slide_type": "skip"
    }
   },
   "outputs": [],
   "source": [
    "#def time_to_seconds(zeTime):\n",
    "#    x = time.strptime(zeTime.split(',')[0],'%H:%M:%S')\n",
    "#    return datetime.timedelta(hours=x.tm_hour,minutes=x.tm_min,seconds=x.tm_sec).total_seconds()\n",
    "\n",
    "def time_to_seconds(zeTime):\n",
    "    return datetime.timedelta(hours=zeTime.hour,minutes=zeTime.minute,seconds=zeTime.second).total_seconds()"
   ]
  },
  {
   "cell_type": "code",
   "execution_count": 0,
   "metadata": {
    "colab": {},
    "colab_type": "code",
    "id": "lUoW0Wvq_DOr"
   },
   "outputs": [],
   "source": [
    "def get_season(date):\n",
    "    year = str(date.year)\n",
    "    seasons = {'spring': pd.date_range(start='21/03/'+year, end='20/06/'+year),\n",
    "               'summer': pd.date_range(start='21/06/'+year, end='22/09/'+year),\n",
    "               'autumn': pd.date_range(start='23/09/'+year, end='20/12/'+year)}\n",
    "    if date in seasons['spring']:\n",
    "        return 'spring'\n",
    "    if date in seasons['summer']:\n",
    "        return 'summer'\n",
    "    if date in seasons['autumn']:\n",
    "        return 'autumn'\n",
    "    else:\n",
    "        return 'winter'\n",
    "      \n",
    "def add_season_simple(df):\n",
    "    df['month'] = df['month'].astype(\"int\")\n",
    "    df[\"season\"] = df['month'].apply(lambda x : (x%12+3)//3) \n",
    "    season = {1:\"winter\",2:\"spring\",3:\"summer\",4:\"autumn\"}\n",
    "    df.season = df.season.map(season)\n",
    "    \n",
    "    return df"
   ]
  },
  {
   "cell_type": "code",
   "execution_count": 0,
   "metadata": {
    "colab": {},
    "colab_type": "code",
    "id": "8nq8tGanC8wL"
   },
   "outputs": [],
   "source": [
    "# get_dummies"
   ]
  },
  {
   "cell_type": "code",
   "execution_count": 0,
   "metadata": {
    "colab": {},
    "colab_type": "code",
    "id": "ezKOZXv8DI-L"
   },
   "outputs": [],
   "source": [
    "def in_ipynb():\n",
    "    try:\n",
    "        cfg = get_ipython().config \n",
    "        if cfg['IPKernelApp']['parent_appname'] == 'ipython-notebook':\n",
    "            return True\n",
    "        else:\n",
    "            return False\n",
    "    except NameError:\n",
    "        return False"
   ]
  },
  {
   "cell_type": "markdown",
   "metadata": {
    "colab_type": "text",
    "id": "0GyvEJ-Z_DOu",
    "slideshow": {
     "slide_type": "skip"
    }
   },
   "source": [
    "# Import Data"
   ]
  },
  {
   "cell_type": "markdown",
   "metadata": {
    "colab_type": "text",
    "id": "oQSfU8XJa0LR"
   },
   "source": [
    "## Setup"
   ]
  },
  {
   "cell_type": "code",
   "execution_count": 0,
   "metadata": {
    "colab": {},
    "colab_type": "code",
    "id": "VPziZvOqay95"
   },
   "outputs": [],
   "source": [
    "# Google Cloud Storage stuff\n",
    "#bucket_path = \"dataproc-fc4b0345-3a3c-41e2-9c9b-5ed323ebbe46-us\"\n",
    "#client = storage.Client()\n",
    "#bucket = client.get_bucket(bucket_path)"
   ]
  },
  {
   "cell_type": "code",
   "execution_count": 0,
   "metadata": {
    "colab": {},
    "colab_type": "code",
    "id": "TZ0MmHb9azZp"
   },
   "outputs": [],
   "source": [
    "# Google Cloud Storage from VM\n",
    "\n",
    "#from google.cloud import storage\n",
    "#from io import BytesIO\n",
    "#client = storage.Client()\n",
    "#bucket = \"toxicity_input\"\n",
    "\n",
    "#blob = storage.blob.Blob(\"train.csv\",bucket)\n",
    "#content = blob.download_as_string()\n",
    "#train = pd.read_csv(BytesIO(content))"
   ]
  },
  {
   "cell_type": "markdown",
   "metadata": {
    "colab_type": "text",
    "id": "DwEBUkA2_DOu",
    "slideshow": {
     "slide_type": "skip"
    }
   },
   "source": [
    "# Cleanup"
   ]
  },
  {
   "cell_type": "code",
   "execution_count": 0,
   "metadata": {
    "colab": {},
    "colab_type": "code",
    "id": "07oqMnCL_Gyf"
   },
   "outputs": [],
   "source": []
  },
  {
   "cell_type": "markdown",
   "metadata": {
    "colab_type": "text",
    "id": "yfKIrRUM_H4r"
   },
   "source": [
    "## Taking care of missing data"
   ]
  },
  {
   "cell_type": "code",
   "execution_count": 0,
   "metadata": {
    "colab": {
     "base_uri": "https://localhost:8080/",
     "height": 71
    },
    "colab_type": "code",
    "executionInfo": {
     "elapsed": 359,
     "status": "ok",
     "timestamp": 1555180933674,
     "user": {
      "displayName": "Luc Mercier",
      "photoUrl": "https://lh3.googleusercontent.com/-Z7icg7ebIxM/AAAAAAAAAAI/AAAAAAAAR04/me3fh6-n40o/s64/photo.jpg",
      "userId": "14128330635164127082"
     },
     "user_tz": 240
    },
    "id": "9GvzFp6Q_K_e",
    "outputId": "f5ddb221-40ee-40f8-91dd-61b43034cc09"
   },
   "outputs": [
    {
     "name": "stderr",
     "output_type": "stream",
     "text": [
      "/usr/local/lib/python3.6/dist-packages/sklearn/utils/deprecation.py:58: DeprecationWarning: Class Imputer is deprecated; Imputer was deprecated in version 0.20 and will be removed in 0.22. Import impute.SimpleImputer from sklearn instead.\n",
      "  warnings.warn(msg, category=DeprecationWarning)\n"
     ]
    }
   ],
   "source": [
    "# Configure Imputer\n",
    "from sklearn.preprocessing import Imputer\n",
    "imputer = Imputer(missing_values='NaN', strategy=\"mean\", axis=0)\n",
    "\n",
    "# Use Imputer\n",
    "#imputer = imputer.fit(X[:, 1:3])\n",
    "#X[:,1:3] = imputer.transform(X[:,1:3])"
   ]
  },
  {
   "cell_type": "code",
   "execution_count": 0,
   "metadata": {
    "colab": {},
    "colab_type": "code",
    "id": "cLavGpEU_1eV"
   },
   "outputs": [],
   "source": [
    "#"
   ]
  },
  {
   "cell_type": "markdown",
   "metadata": {
    "colab_type": "text",
    "id": "3NRNzNkkBAP4"
   },
   "source": [
    "## Encode Categorical Data"
   ]
  },
  {
   "cell_type": "code",
   "execution_count": 0,
   "metadata": {
    "colab": {},
    "colab_type": "code",
    "id": "ZecX4hgfBB5M"
   },
   "outputs": [],
   "source": [
    "# Encode labels\n",
    "\n",
    "from sklearn.preprocessing import LabelEncoder, OneHotEncoder\n",
    "\n",
    "labelencoder_X = LabelEncoder()\n",
    "\n",
    "#X[:,0] = labelencoder_X.fit_transform(X[:,0])\n",
    "\n",
    "# Make sure the machine does not see rank in unranked features (ex. country)\n",
    "#onehotencoder = OneHotEncoder(categorical_features=[0])\n",
    "\n",
    "# Create dummy variables\n",
    "#X = onehotencoder.fit_transform(X).toarray()"
   ]
  },
  {
   "cell_type": "code",
   "execution_count": 0,
   "metadata": {
    "colab": {},
    "colab_type": "code",
    "id": "4iqostBS_k_e"
   },
   "outputs": [],
   "source": []
  },
  {
   "cell_type": "code",
   "execution_count": 0,
   "metadata": {
    "colab": {},
    "colab_type": "code",
    "id": "BRR2D3SIBm6s"
   },
   "outputs": [],
   "source": []
  },
  {
   "cell_type": "code",
   "execution_count": 0,
   "metadata": {
    "colab": {},
    "colab_type": "code",
    "id": "4HobXZdEDmwr"
   },
   "outputs": [],
   "source": []
  },
  {
   "cell_type": "markdown",
   "metadata": {
    "colab_type": "text",
    "id": "d_UJqvS2_DOv"
   },
   "source": [
    "# Exploratory Data Analysis"
   ]
  },
  {
   "cell_type": "markdown",
   "metadata": {
    "colab_type": "text",
    "id": "HNXQpORL_DOw"
   },
   "source": [
    "## NULL values"
   ]
  },
  {
   "cell_type": "markdown",
   "metadata": {
    "colab_type": "text",
    "id": "MerCyH6a_DOx"
   },
   "source": [
    "## Basic correlations"
   ]
  },
  {
   "cell_type": "markdown",
   "metadata": {
    "colab_type": "text",
    "id": "LlO0EwfU_DOy"
   },
   "source": [
    "### Boolean x, float target"
   ]
  },
  {
   "cell_type": "code",
   "execution_count": 0,
   "metadata": {
    "colab": {},
    "colab_type": "code",
    "id": "pTBZBmmg_DOz"
   },
   "outputs": [],
   "source": []
  },
  {
   "cell_type": "code",
   "execution_count": 0,
   "metadata": {
    "colab": {},
    "colab_type": "code",
    "id": "FTsuP2Wa_DO1"
   },
   "outputs": [],
   "source": []
  },
  {
   "cell_type": "markdown",
   "metadata": {
    "colab_type": "text",
    "id": "Tpn1L5S0_DO2"
   },
   "source": [
    "# Analysis"
   ]
  },
  {
   "cell_type": "code",
   "execution_count": 0,
   "metadata": {
    "colab": {},
    "colab_type": "code",
    "id": "R9B0PLg1En4a"
   },
   "outputs": [],
   "source": []
  },
  {
   "cell_type": "markdown",
   "metadata": {
    "colab_type": "text",
    "id": "-72efrP9Epta"
   },
   "source": [
    "## Feature Scaling\n",
    "\n",
    "*   Make sure that we do not introduce artificial bias because values are not on the same scale\n",
    "* Added bonus: makes processing faster.\n",
    "\n"
   ]
  },
  {
   "cell_type": "code",
   "execution_count": 0,
   "metadata": {
    "colab": {},
    "colab_type": "code",
    "id": "yfTlZ3H6Eptb"
   },
   "outputs": [],
   "source": [
    "from sklearn.preprocessing import StandardScaler\n",
    "\n",
    "sc_X = StandardScaler()\n",
    "#X_train = sc_X.fit_transform(X_train)\n",
    "#X_test = sc_X.transform(X_test)\n",
    "\n",
    "# What about dummy variables?\n",
    "# It depends on the context. It depends on the interpretation we need."
   ]
  },
  {
   "cell_type": "code",
   "execution_count": 0,
   "metadata": {
    "colab": {},
    "colab_type": "code",
    "id": "nZfzj12dDWNL"
   },
   "outputs": [],
   "source": []
  },
  {
   "cell_type": "markdown",
   "metadata": {
    "colab_type": "text",
    "id": "JIZ--HzZDWuC"
   },
   "source": [
    "## Split into test and train"
   ]
  },
  {
   "cell_type": "code",
   "execution_count": 0,
   "metadata": {
    "colab": {},
    "colab_type": "code",
    "id": "jijg_rGdDdIL"
   },
   "outputs": [],
   "source": [
    "from sklearn.model_selection import train_test_split\n",
    "\n",
    "#X = \n",
    "#y =\n",
    "\n",
    "#X_train, X_test, y_train, y_test = train_test_split(X, y, test_size=0.30)"
   ]
  },
  {
   "cell_type": "code",
   "execution_count": 0,
   "metadata": {
    "colab": {},
    "colab_type": "code",
    "id": "h4UKev30DZ1j"
   },
   "outputs": [],
   "source": []
  },
  {
   "cell_type": "markdown",
   "metadata": {
    "colab_type": "text",
    "id": "hIzVJdOo_DO3"
   },
   "source": [
    "# Models and predictive"
   ]
  },
  {
   "cell_type": "code",
   "execution_count": 0,
   "metadata": {
    "colab": {},
    "colab_type": "code",
    "id": "rJAcZIIi6AeL"
   },
   "outputs": [],
   "source": []
  },
  {
   "cell_type": "markdown",
   "metadata": {
    "colab_type": "text",
    "id": "-OnjzfCL6BDz"
   },
   "source": [
    "# ANN"
   ]
  },
  {
   "cell_type": "markdown",
   "metadata": {
    "colab_type": "text",
    "id": "2DPNAnKZK3Bx"
   },
   "source": [
    "Keras or PyTorch?\n",
    "\n",
    "TL;DR:\n",
    "Keras may be easier to get into and experiment with standard layers, in a plug & play spirit.\n",
    "\n",
    "PyTorch offers a lower-level approach and more flexibility for the more mathematically-inclined users."
   ]
  },
  {
   "cell_type": "code",
   "execution_count": 0,
   "metadata": {
    "colab": {},
    "colab_type": "code",
    "id": "U0qqcKK2K6G4"
   },
   "outputs": [],
   "source": []
  },
  {
   "cell_type": "code",
   "execution_count": 0,
   "metadata": {
    "colab": {},
    "colab_type": "code",
    "id": "WZ3Hn_V9K2Ao"
   },
   "outputs": [],
   "source": []
  },
  {
   "cell_type": "markdown",
   "metadata": {
    "colab_type": "text",
    "id": "AAqzMs-f6zLx"
   },
   "source": [
    "## Train ANN\n",
    "\n",
    "(Stochastic Gradient Descent)\n",
    "\n",
    "1. Randomly initialize weights to small numbers close to 0 (but not 0)\n",
    "\n",
    "2. Input first observation in input layer, each feature in one input node\n",
    "\n",
    "3. Forward propagation. Neurons are activated according to their weights.\n",
    "\n",
    "4. Compare predicted and actual. Measure error.\n",
    "\n",
    "5. Back propagation. Propagate error, update weights according to how much they are responsible for the error\n",
    "\n",
    "6. Repeat 1-5 and:\n",
    "\n",
    "> A) update weights after each observation (reinforced learning)\n",
    "> B) update weights after batch of observations (batch learning)\n",
    "\n",
    "7. When whole training set is done, redo more epochs"
   ]
  },
  {
   "cell_type": "code",
   "execution_count": 0,
   "metadata": {
    "colab": {},
    "colab_type": "code",
    "id": "kJWBOJUo6ENW"
   },
   "outputs": [],
   "source": [
    "# Importing the Keras libraries and packages\n",
    "import keras\n",
    "from keras.models import Sequential\n",
    "from keras.layers import Dense"
   ]
  },
  {
   "cell_type": "code",
   "execution_count": 0,
   "metadata": {
    "colab": {},
    "colab_type": "code",
    "id": "1aeOnw7P6CsG"
   },
   "outputs": [],
   "source": [
    "# Initializing the ANN\n",
    "classifier = Sequential()\n",
    "\n",
    "# Train ANN\n",
    "# Stochastic Gradient Descent\n",
    "# 1. Randomly initialize weights to small numbers close to 0 (but not 0)\n",
    "\n",
    "# 2. Input first observation in input layer, each feature in one input node\n",
    "\n",
    "# 3. Forward propagation. Neurons are activated according to their weights.\n",
    "\n",
    "# 4. Compare predicted and actual. Measure error.\n",
    "\n",
    "# 5. Back propagation. \n",
    "# Propagate error, update weights according to how much they are \n",
    "# responsible for the error\n",
    "\n",
    "# 6. Repeat 1-5 and:\n",
    "#     1. update weights after each observation (reinforced learning)\n",
    "#     2. update weights after batch of observations (batch learning)\n",
    "\n",
    "# 7. When whole training set is done, redo more epochs"
   ]
  },
  {
   "cell_type": "code",
   "execution_count": 0,
   "metadata": {
    "colab": {},
    "colab_type": "code",
    "id": "_gUsB9VC6Dgu"
   },
   "outputs": [],
   "source": [
    "# Add input layer and first hidden layer\n",
    "# TODO UPDATE CODE TO RECENT VERSION (this is Keras)\n",
    "\n",
    "# Tip for nodes in hidden layer: \n",
    "# use average between nodes in input layer and ouput layer\n",
    "\n",
    "# Otherwise use parameter tuning (ex. k-fold cross-validation)\n",
    "\n",
    "# Here: input = 11, output = 1 because it's binary\n",
    "# init = weights initialization (here = uniform)\n",
    "# activation function = rectifier function for hidden layer (\"relu\")\n",
    "\n",
    "classifier.add(Dense(units=6, init='uniform', activation='relu', input_dim=11))\n",
    "\n",
    "# Second hidden layer\n",
    "classifier.add(Dense(units=6, init='uniform', activation='relu'))\n",
    "\n",
    "# Output layer\n",
    "# one output, dependent variable is boolean\n",
    "# Activation = sigmoid\n",
    "classifier.add(Dense(units=1, init='uniform', activation='sigmoid'))"
   ]
  },
  {
   "cell_type": "code",
   "execution_count": 0,
   "metadata": {
    "colab": {},
    "colab_type": "code",
    "id": "Pr5Dv7Z1CMKx"
   },
   "outputs": [],
   "source": [
    "# Compile:\n",
    "# Need optimizer algorithm. Here: Stochastic Gradient Descent\n",
    "# (specifically: we can use Adam)\n",
    "# Loss function (sum of square errors in linear regression, but logarithmic loss here)\n",
    "# that we need to optimize through stochastic gradient descent\n",
    "# If binary outcome: binary_crossentropy (otherwise categorical_crossentropy)\n",
    "# Metrics: list of metrics to be evaluated\n",
    "classifier.compile(optimizer='adam', loss='binary_crossentropy', \n",
    "                   metrics = ['accuracy'])"
   ]
  },
  {
   "cell_type": "code",
   "execution_count": 0,
   "metadata": {
    "colab": {},
    "colab_type": "code",
    "id": "ljNITBxdCaXd"
   },
   "outputs": [],
   "source": [
    "# Fit ANN to training\n",
    "# batch size: number of observations after which we update weights\n",
    "# epochs: number of times the whole dataset passes through the ANN\n",
    "# both chosen arbitrarily\n",
    "\n",
    "classifier.fit(X_train, y_train, batch_size = 10, nb_epoch = 100)"
   ]
  },
  {
   "cell_type": "markdown",
   "metadata": {
    "colab_type": "text",
    "id": "qk-4A5_8agwn"
   },
   "source": [
    "## Test\n",
    "\n",
    "K-fold Cross-Validation\n",
    "\n",
    "Split the training set into k sets, take (k-1) as training and the final as test. Repeat k times until gone through all different scenarios with the training set."
   ]
  },
  {
   "cell_type": "code",
   "execution_count": 0,
   "metadata": {
    "colab": {},
    "colab_type": "code",
    "id": "LdF5Q5fla2LM"
   },
   "outputs": [],
   "source": []
  }
 ],
 "metadata": {
  "colab": {
   "collapsed_sections": [
    "oQSfU8XJa0LR",
    "yfKIrRUM_H4r",
    "3NRNzNkkBAP4",
    "HNXQpORL_DOw",
    "MerCyH6a_DOx",
    "LlO0EwfU_DOy",
    "-72efrP9Epta",
    "JIZ--HzZDWuC",
    "AAqzMs-f6zLx",
    "qk-4A5_8agwn"
   ],
   "name": "Data Science Framework.ipynb",
   "provenance": [],
   "toc_visible": true,
   "version": "0.3.2"
  },
  "kernelspec": {
   "display_name": "Python 3",
   "language": "python",
   "name": "python3"
  },
  "language_info": {
   "codemirror_mode": {
    "name": "ipython",
    "version": 3
   },
   "file_extension": ".py",
   "mimetype": "text/x-python",
   "name": "python",
   "nbconvert_exporter": "python",
   "pygments_lexer": "ipython3",
   "version": "3.6.4"
  }
 },
 "nbformat": 4,
 "nbformat_minor": 1
}
