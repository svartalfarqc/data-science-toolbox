{
 "cells": [
  {
   "cell_type": "markdown",
   "metadata": {},
   "source": [
    "# Contractions"
   ]
  },
  {
   "cell_type": "code",
   "execution_count": null,
   "metadata": {},
   "outputs": [],
   "source": [
    "LOOKUP_CONTRACTIONS_EN = {\"ain't\": \"is not\"\n",
    "                      , \"aren't\": \"are not\"\n",
    "                      ,\"can't\": \"cannot\"\n",
    "                      , \"'cause\": \"because\"\n",
    "                      , \"could've\": \"could have\"\n",
    "                      , \"couldn't\": \"could not\", \"didn't\": \"did not\"\n",
    "                      ,  \"doesn't\": \"does not\", \"don't\": \"do not\"\n",
    "                      , \"hadn't\": \"had not\", \"hasn't\": \"has not\"\n",
    "                      , \"haven't\": \"have not\", \"he'd\": \"he would\"\n",
    "                      ,\"he'll\": \"he will\", \"he's\": \"he is\", \"how'd\": \"how did\"\n",
    "                      , \"how'd'y\": \"how do you\", \"how'll\": \"how will\"\n",
    "                      , \"how's\": \"how is\",  \"I'd\": \"I would\"\n",
    "                      , \"I'd've\": \"I would have\", \"I'll\": \"I will\"\n",
    "                      , \"I'll've\": \"I will have\",\"I'm\": \"I am\", \"I've\": \"I have\"\n",
    "                      , \"i'd\": \"i would\", \"i'd've\": \"i would have\"\n",
    "                         , \"i'll\": \"i will\",  \"i'll've\": \"i will have\"\n",
    "                         ,\"i'm\": \"i am\", \"i've\": \"i have\", \"isn't\": \"is not\"\n",
    "                         , \"it'd\": \"it would\", \"it'd've\": \"it would have\"\n",
    "                         , \"it'll\": \"it will\", \"it'll've\": \"it will have\"\n",
    "                         ,\"it's\": \"it is\", \"let's\": \"let us\", \"ma'am\": \"madam\"\n",
    "                         , \"mayn't\": \"may not\", \"might've\": \"might have\"\n",
    "                         ,\"mightn't\": \"might not\"\n",
    "                         ,\"mightn't've\": \"might not have\"\n",
    "                         , \"must've\": \"must have\", \"mustn't\": \"must not\"\n",
    "                         , \"mustn't've\": \"must not have\", \"needn't\": \"need not\"\n",
    "                         , \"needn't've\": \"need not have\"\n",
    "                         ,\"o'clock\": \"of the clock\", \"oughtn't\": \"ought not\"\n",
    "                         , \"oughtn't've\": \"ought not have\", \"shan't\": \"shall not\", \"sha'n't\": \"shall not\"\n",
    "                         , \"shan't've\": \"shall not have\", \"she'd\": \"she would\"\n",
    "                         , \"she'd've\": \"she would have\", \"she'll\": \"she will\"\n",
    "                         , \"she'll've\": \"she will have\", \"she's\": \"she is\", \"should've\": \"should have\"\n",
    "                         , \"shouldn't\": \"should not\", \"shouldn't've\": \"should not have\"\n",
    "                         , \"so've\": \"so have\",\"so's\": \"so as\", \"this's\": \"this is\"\n",
    "                         ,\"that'd\": \"that would\", \"that'd've\": \"that would have\"\n",
    "                         , \"that's\": \"that is\", \"there'd\": \"there would\"\n",
    "                         , \"there'd've\": \"there would have\", \"there's\": \"there is\"\n",
    "                         , \"here's\": \"here is\",\"they'd\": \"they would\", \"they'd've\": \"they would have\"\n",
    "                         , \"they'll\": \"they will\", \"they'll've\": \"they will have\"\n",
    "                         , \"they're\": \"they are\", \"they've\": \"they have\", \"to've\": \"to have\"\n",
    "                         , \"wasn't\": \"was not\", \"we'd\": \"we would\", \"we'd've\": \"we would have\"\n",
    "                         , \"we'll\": \"we will\", \"we'll've\": \"we will have\", \"we're\": \"we are\", \"we've\": \"we have\", \"weren't\": \"were not\"\n",
    "                         , \"what'll\": \"what will\", \"what'll've\": \"what will have\"\n",
    "                         , \"what're\": \"what are\",  \"what's\": \"what is\", \"what've\": \"what have\"\n",
    "                         , \"when's\": \"when is\", \"when've\": \"when have\", \"where'd\": \"where did\"\n",
    "                         , \"where's\": \"where is\", \"where've\": \"where have\", \"who'll\": \"who will\"\n",
    "                         , \"who'll've\": \"who will have\", \"who's\": \"who is\", \"who've\": \"who have\"\n",
    "                         , \"why's\": \"why is\", \"why've\": \"why have\", \"will've\": \"will have\"\n",
    "                         , \"won't\": \"will not\", \"won't've\": \"will not have\", \"would've\": \"would have\"\n",
    "                         , \"wouldn't\": \"would not\", \"wouldn't've\": \"would not have\"\n",
    "                         , \"y'all\": \"you all\", \"y'all'd\": \"you all would\"\n",
    "                         ,\"y'all'd've\": \"you all would have\",\"y'all're\": \"you all are\"\n",
    "                         ,\"y'all've\": \"you all have\",\"you'd\": \"you would\"\n",
    "                         , \"you'd've\": \"you would have\", \"you'll\": \"you will\"\n",
    "                         , \"you'll've\": \"you will have\", \"you're\": \"you are\", \"you've\": \"you have\" }"
   ]
  },
  {
   "cell_type": "markdown",
   "metadata": {},
   "source": [
    "# Punctuations"
   ]
  },
  {
   "cell_type": "code",
   "execution_count": 1,
   "metadata": {},
   "outputs": [],
   "source": [
    "LOOKUP_PUNCT_EN = \"/-'?!.,#$%\\'()*+-/:;<=>@[\\\\]^_`{|}~`\" + '\"\"“”’' + '∞θ÷α•à−β∅³π‘₹´°£€\\×™√²—–&'"
   ]
  },
  {
   "cell_type": "code",
   "execution_count": null,
   "metadata": {},
   "outputs": [],
   "source": []
  }
 ],
 "metadata": {
  "kernelspec": {
   "display_name": "Python 3",
   "language": "python",
   "name": "python3"
  },
  "language_info": {
   "codemirror_mode": {
    "name": "ipython",
    "version": 3
   },
   "file_extension": ".py",
   "mimetype": "text/x-python",
   "name": "python",
   "nbconvert_exporter": "python",
   "pygments_lexer": "ipython3",
   "version": "3.6.4"
  }
 },
 "nbformat": 4,
 "nbformat_minor": 2
}
